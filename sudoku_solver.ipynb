{
 "cells": [
  {
   "cell_type": "code",
   "execution_count": 55,
   "metadata": {},
   "outputs": [],
   "source": [
    "import urllib.request, json\n",
    "import os\n",
    "import numpy as np\n",
    "\n",
    "sudoku_data = 'sudoku_puzzle.json'\n",
    "table = np.zeros((9,9))\n",
    "\n",
    "def load_puzzle():\n",
    "\n",
    "    if os.stat(sudoku_data).st_size == 0:\n",
    "        url = \"http://www.cs.utep.edu/cheon/ws/sudoku/new/?level=3&size=9\"\n",
    "\n",
    "        req = urllib.request.Request(url)\n",
    "\n",
    "        r = urllib.request.urlopen(req).read()\n",
    "        cont = json.loads(r.decode('utf-8'))\n",
    "\n",
    "\n",
    "        f = open(sudoku_data, \"w+\")\n",
    "        json.dump(cont, f)\n",
    "        f.close()\n",
    "    else:\n",
    "        with open(sudoku_data) as json_file:\n",
    "            cont = json.load(json_file)\n",
    "            \n",
    "    return create_game(cont)\n",
    "\n",
    "def create_game(sudoku_data: list):\n",
    "    global table\n",
    "    new_table = sudoku_data['squares']\n",
    "    for column in new_table:\n",
    "        x = column['x']\n",
    "        y = column['y']\n",
    "        value = column['value']\n",
    "        table[x,y] = int(value)\n",
    "        \n",
    "    return table\n"
   ]
  },
  {
   "cell_type": "code",
   "execution_count": null,
   "metadata": {},
   "outputs": [],
   "source": [
    "def possible(table, x, y, value):\n",
    "    '''\n",
    "    x = num.get('x')\n",
    "    y = num.get('y')\n",
    "    value = num.get('value')\n",
    "    '''\n",
    "    if table[x][y]!=0: return False \n",
    "    for x_ax in range(9):\n",
    "        if table[x_ax][y]==value:\n",
    "            return False\n",
    "    \n",
    "    for y_ax in range(9):\n",
    "        if table[x][y_ax]==value:\n",
    "            return False\n",
    "        "
   ]
  },
  {
   "cell_type": "code",
   "execution_count": 72,
   "metadata": {},
   "outputs": [
    {
     "data": {
      "text/plain": [
       "True"
      ]
     },
     "execution_count": 72,
     "metadata": {},
     "output_type": "execute_result"
    }
   ],
   "source": [
    "def possible(table, x_val, y_val, value):\n",
    "    '''\n",
    "    x = num.get('x')\n",
    "    y = num.get('y')\n",
    "    value = num.get('value')\n",
    "    '''\n",
    "    x = y_val\n",
    "    y = x_val\n",
    "    \n",
    "    if table[x][y]!=0: return False \n",
    "    for i in range(9):\n",
    "        if table[x][i]==value or table[i][y]==value:\n",
    "            return False\n",
    "    \n",
    "    x = x-x%3\n",
    "    y = y-y%3\n",
    "    for x_box in range(x,x+3):\n",
    "        for y_box in range(y,y+3):\n",
    "            if table[y_box][x_box]==value:\n",
    "                return False\n",
    "    \n",
    "    return True \n",
    "        \n",
    "current_game = load_puzzle()\n",
    "possible(current_game, x_val=1,y_val=4,value=4)\n"
   ]
  },
  {
   "cell_type": "code",
   "execution_count": 67,
   "metadata": {},
   "outputs": [
    {
     "name": "stdout",
     "output_type": "stream",
     "text": [
      "x: 6\n",
      "y: 6\n",
      "table 6 6 = 6.0\n",
      "table 6 7 = 8.0\n",
      "FALSE\n",
      "table 6 8 = 0.0\n",
      "table 7 6 = 0.0\n",
      "table 7 7 = 0.0\n",
      "table 7 8 = 0.0\n",
      "table 8 6 = 0.0\n",
      "table 8 7 = 0.0\n",
      "table 8 8 = 7.0\n",
      "[[1. 0. 0. 0. 0. 0. 0. 3. 0.]\n",
      " [0. 0. 2. 0. 4. 0. 0. 0. 9.]\n",
      " [0. 9. 0. 0. 0. 3. 1. 0. 0.]\n",
      " [2. 1. 0. 0. 0. 0. 0. 0. 0.]\n",
      " [0. 0. 0. 0. 3. 0. 0. 0. 0.]\n",
      " [0. 0. 0. 0. 0. 0. 0. 0. 6.]\n",
      " [0. 0. 5. 4. 0. 0. 6. 8. 0.]\n",
      " [9. 7. 0. 0. 6. 8. 0. 0. 0.]\n",
      " [0. 0. 0. 0. 0. 0. 0. 0. 7.]]\n"
     ]
    }
   ],
   "source": [
    "table = load_puzzle()\n",
    "x = 8\n",
    "y = 7\n",
    "\n",
    "value = 8\n",
    "\n",
    "x = x-x%3\n",
    "y = y-y%3\n",
    "print('x:',x)\n",
    "print('y:',y)\n",
    "\n",
    "\n",
    "for x_box in range(x,x+3):\n",
    "    for y_box in range(y,y+3):\n",
    "        print('table',x_box,y_box, '=',table[x_box][y_box])\n",
    "        if table[x_box][y_box]==value:\n",
    "            print('FALSE')\n",
    "print(table)\n"
   ]
  },
  {
   "cell_type": "code",
   "execution_count": 56,
   "metadata": {},
   "outputs": [
    {
     "name": "stdout",
     "output_type": "stream",
     "text": [
      "[[1. 0. 0. 0. 0. 0. 0. 3. 0.]\n",
      " [0. 0. 2. 0. 4. 0. 0. 0. 9.]\n",
      " [0. 9. 0. 0. 0. 3. 1. 0. 0.]\n",
      " [2. 1. 0. 0. 0. 0. 0. 0. 0.]\n",
      " [0. 0. 0. 0. 3. 0. 0. 0. 0.]\n",
      " [0. 0. 0. 0. 0. 0. 0. 0. 6.]\n",
      " [0. 0. 5. 4. 0. 0. 6. 8. 0.]\n",
      " [9. 7. 0. 0. 6. 8. 0. 0. 0.]\n",
      " [0. 0. 0. 0. 0. 0. 0. 0. 7.]]\n"
     ]
    }
   ],
   "source": [
    "#from load_json import get_puzzle\n",
    "\n",
    "\n",
    "if __name__ == \"__main__\":\n",
    "    '''\n",
    "    puzzle_json = load_puzzle()\n",
    "    current_game = create_game(puzzle_json)\n",
    "    '''\n",
    "    new_game = load_puzzle()\n",
    "    print(new_game)\n",
    "    \n",
    "\n"
   ]
  }
 ],
 "metadata": {
  "kernelspec": {
   "display_name": "Python 3",
   "language": "python",
   "name": "python3"
  },
  "language_info": {
   "codemirror_mode": {
    "name": "ipython",
    "version": 3
   },
   "file_extension": ".py",
   "mimetype": "text/x-python",
   "name": "python",
   "nbconvert_exporter": "python",
   "pygments_lexer": "ipython3",
   "version": "3.7.3"
  }
 },
 "nbformat": 4,
 "nbformat_minor": 2
}
