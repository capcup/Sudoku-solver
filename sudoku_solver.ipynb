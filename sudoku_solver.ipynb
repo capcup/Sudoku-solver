{
 "cells": [
  {
   "cell_type": "code",
   "execution_count": 12,
   "metadata": {},
   "outputs": [],
   "source": [
    "import urllib.request, json\n",
    "import os\n",
    "\n",
    "sudoku_data = 'sudoku_puzzle.json'\n",
    "\n",
    "def get_puzzle():\n",
    "\n",
    "    if os.stat(sudoku_data).st_size == 0:\n",
    "        url = \"http://www.cs.utep.edu/cheon/ws/sudoku/new/?level=3&size=9\"\n",
    "\n",
    "        req = urllib.request.Request(url)\n",
    "\n",
    "        r = urllib.request.urlopen(req).read()\n",
    "        cont = json.loads(r.decode('utf-8'))\n",
    "\n",
    "\n",
    "        f = open(sudoku_data, \"w+\")\n",
    "        json.dump(cont, f)\n",
    "        f.close()\n",
    "    else:\n",
    "        with open(sudoku_data) as json_file:\n",
    "            cont = json.load(json_file)\n",
    "    return cont"
   ]
  },
  {
   "cell_type": "code",
   "execution_count": 14,
   "metadata": {},
   "outputs": [
    {
     "name": "stdout",
     "output_type": "stream",
     "text": [
      "{'response': True, 'size': '9', 'squares': [{'x': 0, 'y': 0, 'value': 1}, {'x': 0, 'y': 7, 'value': 3}, {'x': 1, 'y': 2, 'value': 2}, {'x': 1, 'y': 4, 'value': 4}, {'x': 1, 'y': 8, 'value': 9}, {'x': 2, 'y': 1, 'value': 9}, {'x': 2, 'y': 5, 'value': 3}, {'x': 2, 'y': 6, 'value': 1}, {'x': 3, 'y': 0, 'value': 2}, {'x': 3, 'y': 1, 'value': 1}, {'x': 4, 'y': 4, 'value': 3}, {'x': 5, 'y': 8, 'value': 6}, {'x': 6, 'y': 2, 'value': 5}, {'x': 6, 'y': 3, 'value': 4}, {'x': 6, 'y': 6, 'value': 6}, {'x': 6, 'y': 7, 'value': 8}, {'x': 7, 'y': 0, 'value': 9}, {'x': 7, 'y': 1, 'value': 7}, {'x': 7, 'y': 4, 'value': 6}, {'x': 7, 'y': 5, 'value': 8}, {'x': 8, 'y': 8, 'value': 7}]}\n"
     ]
    },
    {
     "data": {
      "text/plain": [
       "' NEXT\\n1. convert json to array \\n2. use numpy \\n3. implement algorithm\\n'"
      ]
     },
     "execution_count": 14,
     "metadata": {},
     "output_type": "execute_result"
    }
   ],
   "source": [
    "#from load_json import get_puzzle\n",
    "\n",
    "\n",
    "if __name__ == \"__main__\":\n",
    "    puzzle_json = get_puzzle()\n",
    "    print(puzzle_json)\n",
    "\n",
    "''' NEXT\n",
    "1. convert json to array \n",
    "2. use numpy \n",
    "3. implement algorithm\n",
    "'''\n"
   ]
  },
  {
   "cell_type": "code",
   "execution_count": null,
   "metadata": {},
   "outputs": [],
   "source": []
  }
 ],
 "metadata": {
  "kernelspec": {
   "display_name": "Python 3",
   "language": "python",
   "name": "python3"
  },
  "language_info": {
   "codemirror_mode": {
    "name": "ipython",
    "version": 3
   },
   "file_extension": ".py",
   "mimetype": "text/x-python",
   "name": "python",
   "nbconvert_exporter": "python",
   "pygments_lexer": "ipython3",
   "version": "3.7.3"
  }
 },
 "nbformat": 4,
 "nbformat_minor": 2
}
